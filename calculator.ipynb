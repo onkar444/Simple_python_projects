{
 "cells": [
  {
   "cell_type": "code",
   "execution_count": 5,
   "metadata": {},
   "outputs": [],
   "source": [
    "from tkinter import *\n",
    " \n",
    "def click(num):\n",
    "    global op\n",
    "    op=op+str(num)\n",
    "    iptext.set(op)\n",
    "\n",
    "    \n",
    "def evaluate():\n",
    "    global op\n",
    "    output=str(eval(op))\n",
    "    iptext.set(output)\n",
    "\n",
    "def clearDisplay():\n",
    "    global op\n",
    "    op=\"\"\n",
    "    iptext.set(op)\n",
    "\n",
    "calc=Tk()\n",
    "calc.title(\"TechVidvan Calculator\")\n",
    "op=\"\"\n",
    " \n",
    "iptext=StringVar()\n",
    "iparea=Entry(calc,bg=\"pale turquoise\",font=('large,_font',15,'bold'),bd=10,justify=\"right\",insertwidth=4,textvariable=iptext).grid(columnspan=10)\n",
    " \n",
    "bt7=Button(calc,font=('arial',15,'bold'),command=lambda:click(7),bg=\"dark turquoise\",text=\"7\",bd=5,padx=15,pady=10).grid(row=1,column=0)\n",
    " \n",
    "bt8=Button(calc,font=('arial',15,'bold'),command=lambda:click(8),bg=\"dark turquoise\",text=\"8\",bd=5,padx=15,pady=10).grid(row=1,column=1)\n",
    " \n",
    "bt9=Button(calc,font=('arial',15,'bold'),command=lambda:click(9),bg=\"dark turquoise\",text=\"9\",bd=5,padx=15,pady=10).grid(row=1,column=2)\n",
    " \n",
    "add=Button(calc,font=('arial',15,'bold'),command=lambda:click('+'),bg=\"dark turquoise\",text=\"+\",bd=5,padx=15,pady=10).grid(row=1,column=3)\n",
    " \n",
    "bt4=Button(calc,font=('arial',15,'bold'),command=lambda:click(4),bg=\"dark turquoise\",text=\"4\",bd=5,padx=15,pady=10).grid(row=2,column=0)\n",
    " \n",
    "bt5=Button(calc,font=('arial',15,'bold'),command=lambda:click(5),bg=\"dark turquoise\",text=\"5\",bd=5,padx=15,pady=10).grid(row=2,column=1)\n",
    " \n",
    "bt6=Button(calc,font=('arial',15,'bold'),command=lambda:click(6),bg=\"dark turquoise\",text=\"6\",bd=5,padx=15,pady=10).grid(row=2,column=2)\n",
    " \n",
    "sub=Button(calc,font=('arial',15,'bold'),command=lambda:click('-'),bg=\"dark turquoise\",text=\"-\",bd=5,padx=15,pady=10).grid(row=2,column=3)\n",
    " \n",
    "bt1=Button(calc,font=('arial',15,'bold'),command=lambda:click(1),bg=\"dark turquoise\",text=\"1\",bd=5,padx=15,pady=10).grid(row=3,column=0)\n",
    " \n",
    "bt2=Button(calc,font=('arial',15,'bold'),command=lambda:click(2),bg=\"dark turquoise\",text=\"2\",bd=5,padx=15,pady=10).grid(row=3,column=1)\n",
    " \n",
    "bt3=Button(calc,font=('arial',15,'bold'),command=lambda:click(3),bg=\"dark turquoise\",text=\"3\",bd=5,padx=15,pady=10).grid(row=3,column=2)\n",
    " \n",
    "mul=Button(calc,font=('arial',15,'bold'),command=lambda:click('*'),bg=\"dark turquoise\",text=\"*\",bd=5,padx=15,pady=10).grid(row=3,column=3)\n",
    " \n",
    "bt0=Button(calc,font=('arial',15,'bold'),command=lambda:click(0),bg=\"dark turquoise\",text=\"0\",bd=5,padx=15,pady=10).grid(row=4,column=0)\n",
    " \n",
    "btC=Button(calc,font=('arial',15,'bold'),command=clearDisplay,bg=\"dark turquoise\",text=\"C\",bd=5,padx=15,pady=10).grid(row=4,column=1)\n",
    " \n",
    "eql=Button(calc,font=('arial',15,'bold'),command=evaluate,bg=\"dark turquoise\",text=\"=\",bd=5,padx=15,pady=10).grid(row=4,column=2)\n",
    " \n",
    "div=Button(calc,font=('arial',15,'bold'),command=lambda:click('/'),bg=\"dark turquoise\",text=\"/\",bd=5,padx=15,pady=10).grid(row=4,column=3)\n",
    " \n",
    "\n",
    "calc.mainloop()"
   ]
  },
  {
   "cell_type": "code",
   "execution_count": null,
   "metadata": {},
   "outputs": [],
   "source": []
  }
 ],
 "metadata": {
  "kernelspec": {
   "display_name": "Python 3",
   "language": "python",
   "name": "python3"
  },
  "language_info": {
   "codemirror_mode": {
    "name": "ipython",
    "version": 3
   },
   "file_extension": ".py",
   "mimetype": "text/x-python",
   "name": "python",
   "nbconvert_exporter": "python",
   "pygments_lexer": "ipython3",
   "version": "3.6.5"
  }
 },
 "nbformat": 4,
 "nbformat_minor": 4
}
