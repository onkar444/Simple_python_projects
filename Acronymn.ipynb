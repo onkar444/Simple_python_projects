{
 "cells": [
  {
   "cell_type": "markdown",
   "metadata": {},
   "source": [
    "# Acronym\n",
    "\n",
    " Takes the text from the user and \n",
    " then takes the first letters of the text\n",
    " and convert it to acronym"
   ]
  },
  {
   "cell_type": "code",
   "execution_count": null,
   "metadata": {},
   "outputs": [],
   "source": []
  },
  {
   "cell_type": "code",
   "execution_count": null,
   "metadata": {},
   "outputs": [
    {
     "name": "stdout",
     "output_type": "stream",
     "text": [
      "                  WELCOME TO ACRONYM GAME                   \n",
      "\n",
      "                        LETS PLAY!!!                        \n"
     ]
    }
   ],
   "source": [
    "from IPython.display import clear_output\n",
    "\n",
    "def display():\n",
    "    s='WELCOME TO ACRONYM GAME'\n",
    "    print(s.center(60,' '))\n",
    "    p='LETS PLAY!!!'\n",
    "    print()\n",
    "    print(p.center(60,' '))\n",
    "    \n",
    "\n",
    "def userinput():\n",
    "    text=input('Enter your text :: ')\n",
    "    return text\n",
    "\n",
    "\n",
    "def acronymn():\n",
    "    phrase=userinput()\n",
    "    text=phrase.split()\n",
    "    words=[]\n",
    "    for word in text:\n",
    "        words.append(word[0])\n",
    "    return ''.join(words)\n",
    "\n",
    "\n",
    "def answer():\n",
    "    finalanswer=acronymn().upper()\n",
    "    print()\n",
    "    print('Your Acronym :: ',finalanswer)\n",
    "    \n",
    "\n",
    "def main():\n",
    "    game=True\n",
    "    while game:\n",
    "        display()\n",
    "        answer()\n",
    "        gameinput=input('Want to play again? Enter Y or N::').lower()\n",
    "        if gameinput[0]=='y':\n",
    "            game=True\n",
    "        else:\n",
    "            game=False\n",
    "    print()\n",
    "    print('Have a NICE DAY!')\n",
    "        \n",
    "\n",
    "        \n",
    "        \n",
    "main()"
   ]
  },
  {
   "cell_type": "code",
   "execution_count": null,
   "metadata": {},
   "outputs": [],
   "source": []
  },
  {
   "cell_type": "code",
   "execution_count": null,
   "metadata": {},
   "outputs": [],
   "source": []
  }
 ],
 "metadata": {
  "kernelspec": {
   "display_name": "Python 3",
   "language": "python",
   "name": "python3"
  },
  "language_info": {
   "codemirror_mode": {
    "name": "ipython",
    "version": 3
   },
   "file_extension": ".py",
   "mimetype": "text/x-python",
   "name": "python",
   "nbconvert_exporter": "python",
   "pygments_lexer": "ipython3",
   "version": "3.6.5"
  }
 },
 "nbformat": 4,
 "nbformat_minor": 4
}
