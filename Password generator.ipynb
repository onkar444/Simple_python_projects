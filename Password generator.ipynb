{
 "cells": [
  {
   "cell_type": "markdown",
   "metadata": {},
   "source": [
    "# Password Generator"
   ]
  },
  {
   "cell_type": "code",
   "execution_count": 1,
   "metadata": {},
   "outputs": [],
   "source": [
    "from IPython.display import clear_output"
   ]
  },
  {
   "cell_type": "code",
   "execution_count": 8,
   "metadata": {},
   "outputs": [],
   "source": [
    "import random\n",
    "import string\n",
    "\n",
    "def password_generator():\n",
    "    input1=int(input('How long should the password be?::'))\n",
    "    input2=int(input('How many characters should there be?::'))\n",
    "    input3=input('Should it have uppercase and lowercase letters?::')\n",
    "    input4=input('Should it include numbers and special characters?::')\n",
    "    \n",
    "    password=[]\n",
    "\n",
    "    characters=list(string.ascii_lowercase)\n",
    "    random.shuffle(characters)\n",
    "    password=characters[0:input2]\n",
    "    \n",
    "    letters=[]*input1\n",
    "    for i in password:\n",
    "        letters.append(i)\n",
    "    \n",
    "    final=letters\n",
    "    \n",
    "    if input3[0].lower()=='y':\n",
    "        final[0]=final[0].upper()\n",
    "        \n",
    "    if input4[0].lower()=='y':\n",
    "        count=input1-input2-1\n",
    "        special=['!','@','#','$','%','&','*']\n",
    "        new_special=random.choice(special)\n",
    "        final.append(new_special)\n",
    "        numbers=['1','2','3','4','5','6','7','8','9']\n",
    "       \n",
    "        while count:\n",
    "            random.shuffle(numbers)\n",
    "            final.append(numbers[0])\n",
    "            count=count-1\n",
    "\n",
    "    if len(final)!=input1:\n",
    "        x=input1-len(final)\n",
    "        ltrs=list(string.ascii_lowercase)\n",
    "        while x:\n",
    "            random.shuffle(ltrs)\n",
    "            final.append(ltrs[0])\n",
    "            x=x-1\n",
    "        \n",
    "    final_password=''.join(final)\n",
    "    \n",
    "    print()\n",
    "    print(final_password)\n",
    "    "
   ]
  },
  {
   "cell_type": "code",
   "execution_count": 9,
   "metadata": {},
   "outputs": [
    {
     "name": "stdout",
     "output_type": "stream",
     "text": [
      "How long should the password be?::10\n",
      "How many characters should there be?::6\n",
      "Should it have uppercase and lowercase letters?::y\n",
      "Should it include numbers and special characters?::y\n",
      "\n",
      "Yujfbp%697\n"
     ]
    }
   ],
   "source": [
    "password_generator()"
   ]
  },
  {
   "cell_type": "code",
   "execution_count": null,
   "metadata": {},
   "outputs": [],
   "source": []
  },
  {
   "cell_type": "code",
   "execution_count": null,
   "metadata": {},
   "outputs": [],
   "source": []
  }
 ],
 "metadata": {
  "kernelspec": {
   "display_name": "Python 3",
   "language": "python",
   "name": "python3"
  },
  "language_info": {
   "codemirror_mode": {
    "name": "ipython",
    "version": 3
   },
   "file_extension": ".py",
   "mimetype": "text/x-python",
   "name": "python",
   "nbconvert_exporter": "python",
   "pygments_lexer": "ipython3",
   "version": "3.6.5"
  }
 },
 "nbformat": 4,
 "nbformat_minor": 4
}
