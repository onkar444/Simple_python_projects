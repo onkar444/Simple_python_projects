{
 "cells": [
  {
   "cell_type": "markdown",
   "metadata": {},
   "source": [
    "# Hangman game\n",
    "\n",
    "## Rules:\n",
    "#### Player will get limited chances to guess the word.\n",
    "#### There are limited no words of list."
   ]
  },
  {
   "cell_type": "code",
   "execution_count": null,
   "metadata": {},
   "outputs": [
    {
     "name": "stdout",
     "output_type": "stream",
     "text": [
      "_ _ _ _ _\n",
      "\n",
      "Please guess the letter! :: h\n",
      "0\n",
      "Please guess the letter! :: e\n",
      "0\n",
      "Please guess the letter! :: l\n",
      "0\n",
      "Please guess the letter! :: l\n",
      "1\n",
      "Please guess the letter! :: o\n",
      "2\n",
      "Please guess the letter! :: l\n",
      "3\n",
      "Please guess the letter! :: a\n",
      "4\n",
      "Please guess the letter! :: ad\n",
      "4\n",
      "Please guess the letter! :: adfa\n",
      "4\n",
      "Please guess the letter! :: dsa;a\n",
      "4\n",
      "Please guess the letter! :: fdjasd faosdia\n",
      "4\n",
      "Please guess the letter! :: sdfadf\n",
      "4\n",
      "Please guess the letter! :: adsf\n",
      "4\n",
      "Please guess the letter! :: a\n",
      "4\n",
      "Please guess the letter! :: fasdf\n",
      "4\n",
      "Please guess the letter! :: asdf\n",
      "4\n",
      "Please guess the letter! :: adsf\n",
      "4\n",
      "Please guess the letter! :: asd\n",
      "4\n",
      "Please guess the letter! :: fa\n",
      "4\n",
      "Please guess the letter! :: sdf\n",
      "4\n",
      "Please guess the letter! :: asdf\n",
      "4\n"
     ]
    }
   ],
   "source": [
    "import random\n",
    "\n",
    "answerlist=[\"world\",\"look\",\"hello\",\"book\"]\n",
    "random.shuffle(answerlist)\n",
    "answer=list(answerlist[0])\n",
    "\n",
    "display=[]\n",
    "display.extend(answer)\n",
    "\n",
    "for i in range (len(display)):\n",
    "    display[i]=\"_\"\n",
    "    \n",
    "print(' '.join(display))\n",
    "print()\n",
    "\n",
    "count=0\n",
    "while count < len(answer):\n",
    "    guess = input(\"Please guess the letter! :: \")\n",
    "    guess=guess.lower()\n",
    "    print(count)\n",
    "    \n",
    "    for i in range(len(answer)):\n",
    "        if answer[i]==guess:\n",
    "            \n",
    "            display[i]=guess\n",
    "            count=count+1\n",
    "\n",
    "print(' '.join(display))\n",
    "print()"
   ]
  },
  {
   "cell_type": "code",
   "execution_count": null,
   "metadata": {},
   "outputs": [],
   "source": [
    "   "
   ]
  },
  {
   "cell_type": "code",
   "execution_count": null,
   "metadata": {},
   "outputs": [],
   "source": []
  },
  {
   "cell_type": "code",
   "execution_count": null,
   "metadata": {},
   "outputs": [],
   "source": [
    "    "
   ]
  },
  {
   "cell_type": "code",
   "execution_count": null,
   "metadata": {},
   "outputs": [],
   "source": []
  },
  {
   "cell_type": "code",
   "execution_count": null,
   "metadata": {},
   "outputs": [],
   "source": []
  },
  {
   "cell_type": "code",
   "execution_count": null,
   "metadata": {},
   "outputs": [],
   "source": []
  },
  {
   "cell_type": "code",
   "execution_count": null,
   "metadata": {},
   "outputs": [],
   "source": []
  },
  {
   "cell_type": "code",
   "execution_count": null,
   "metadata": {},
   "outputs": [],
   "source": []
  },
  {
   "cell_type": "code",
   "execution_count": 6,
   "metadata": {},
   "outputs": [],
   "source": []
  },
  {
   "cell_type": "code",
   "execution_count": null,
   "metadata": {},
   "outputs": [
    {
     "name": "stdout",
     "output_type": "stream",
     "text": [
      "hook\n",
      "The word contains 4 letters.\n",
      "Please enter one letter or a 4-letter wordhook\n",
      "Sorry, that is incorrect\n"
     ]
    }
   ],
   "source": [
    "import random\n",
    "\n",
    "def get_word():\n",
    "    wordlist=[\"book\",\"cook\",\"hook\",\"look\"]\n",
    "    word=random.choice(wordlist)\n",
    "    print(word)\n",
    "    return word\n",
    "    \n",
    "\n",
    "    \n",
    "def check(word,guesses,guess):\n",
    "    status=''\n",
    "    matches=0\n",
    "    for letter in word:\n",
    "        if letter in guesses:\n",
    "            status+=letter\n",
    "        else:\n",
    "            status+='*'\n",
    "            \n",
    "        if letter==guess:\n",
    "            matches+=1\n",
    "    if matches>1:\n",
    "        print('Yes the word contains '+matches+'\"'+guess+'\"'+'s')\n",
    "    elif matches==1:\n",
    "              print('yes ! teh word contains the letter \"'+guess+'\" ')\n",
    "    else:\n",
    "              print('Sorry the word does not contain the letter \"'+guess+'\"')\n",
    "    return status\n",
    "              \n",
    "def main():\n",
    "    word=get_word()\n",
    "    guesses=[]\n",
    "    guessed=False\n",
    "    print('The word contains', len(word),'letters.')\n",
    "    while not guessed:\n",
    "        text=\"Please enter one letter or a {}-letter word\".format(len(word))\n",
    "        guess=input(text)\n",
    "        guess=guess.upper()\n",
    "        if guess in guesses:\n",
    "            print('You already guessed \"'+guess+'\"')\n",
    "            \n",
    "        elif len(guess)==len(word):\n",
    "            guesses.append(guess)\n",
    "            if guess==word:\n",
    "                guessed=True\n",
    "            else:\n",
    "                print('Sorry, that is incorrect')\n",
    "        elif len(guess)==1:\n",
    "            guesses.append(guess)\n",
    "            result=check(word,guesses,guess)\n",
    "            if result==word:\n",
    "                guessed=True\n",
    "            else:\n",
    "                print(result)\n",
    "        else:\n",
    "            print('Invalid entry')\n",
    "    print('Yes the word is ',word+ '! You got it in', len(guesses),'tries.')\n",
    "                \n",
    "    \n",
    "main() "
   ]
  },
  {
   "cell_type": "code",
   "execution_count": null,
   "metadata": {},
   "outputs": [],
   "source": []
  }
 ],
 "metadata": {
  "kernelspec": {
   "display_name": "Python 3",
   "language": "python",
   "name": "python3"
  },
  "language_info": {
   "codemirror_mode": {
    "name": "ipython",
    "version": 3
   },
   "file_extension": ".py",
   "mimetype": "text/x-python",
   "name": "python",
   "nbconvert_exporter": "python",
   "pygments_lexer": "ipython3",
   "version": "3.6.5"
  }
 },
 "nbformat": 4,
 "nbformat_minor": 4
}
